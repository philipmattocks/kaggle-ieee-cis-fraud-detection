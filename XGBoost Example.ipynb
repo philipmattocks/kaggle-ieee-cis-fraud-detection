{
 "cells": [
  {
   "cell_type": "code",
   "execution_count": 44,
   "metadata": {},
   "outputs": [
    {
     "name": "stdout",
     "output_type": "stream",
     "text": [
      "2019-09-11 16:46:04.125669\n",
      "['.gitkeep', 'sample_submission.csv', 'test_identity.csv', 'test_identity_small.csv', 'test_transaction.csv', 'test_transaction_small.csv', 'train_identity.csv', 'train_identity_med.csv', 'train_identity_small.csv', 'train_transaction.csv', 'train_transaction_med.csv', 'train_transaction_small.csv']\n",
      "dimensions:\n",
      "\n",
      "train_transaction: (499, 393)\n",
      "train_identity: (499, 40)\n",
      "time taken: 0:00:00.105716\n"
     ]
    }
   ],
   "source": [
    "from FraudKagglePreProcessData import PreProcessData\n",
    "from datetime import datetime\n",
    "import pandas as pd\n",
    "import numpy as np\n",
    "import os\n",
    "from sklearn import preprocessing\n",
    "import xgboost as xgb\n",
    "start=datetime.now()\n",
    "print(start)\n",
    "\n",
    "print(os.listdir(\"./data/raw/\"))\n",
    "train_transaction = pd.read_csv('./data/raw/train_transaction_small.csv', index_col='TransactionID')\n",
    "test_transaction = pd.read_csv('./data/raw/test_transaction_small.csv', index_col='TransactionID')\n",
    "train_identity = pd.read_csv('./data/raw/train_identity_small.csv', index_col='TransactionID')\n",
    "test_identity = pd.read_csv('./data/raw/test_identity_small.csv', index_col='TransactionID')\n",
    "print('dimensions:\\n')\n",
    "print('train_transaction: ' + str(train_transaction.shape))\n",
    "#print('test_transaction: ' + str(test_transaction.shape))\n",
    "print('train_identity: ' + str(train_identity.shape))\n",
    "#print('test_identity: ' + str(test_identity.shape))\n",
    "\n",
    "finish=datetime.now()\n",
    "print('time taken: '+str(finish-start))\n",
    "\n",
    "train = train_transaction.merge(train_identity, how='left', left_index=True, right_index=True)\n",
    "test = test_transaction.merge(test_identity, how='left', left_index=True, right_index=True)\n",
    "\n",
    "y_train = train['isFraud'].copy()\n",
    "del train_transaction, train_identity, test_transaction, test_identity\n",
    "\n",
    "# Drop target, fill in NaNs\n",
    "X_train = train.drop('isFraud', axis=1)\n",
    "X_test = test.copy()\n",
    "\n",
    "for f in X_train.columns:\n",
    "    if X_train[f].dtype=='object' or X_test[f].dtype=='object': \n",
    "        lbl = preprocessing.LabelEncoder()\n",
    "        lbl.fit(list(X_train[f].values) + list(X_test[f].values))\n",
    "        X_train[f] = lbl.transform(list(X_train[f].values))\n",
    "        X_test[f] = lbl.transform(list(X_test[f].values))"
   ]
  },
  {
   "cell_type": "code",
   "execution_count": 45,
   "metadata": {},
   "outputs": [
    {
     "name": "stdout",
     "output_type": "stream",
     "text": [
      "Memory usage of dataframe is 1.67 MB\n",
      "Memory usage after optimization is: 0.42 MB\n",
      "Decreased by 74.7%\n",
      "Memory usage of dataframe is 1.65 MB\n",
      "Memory usage after optimization is: 0.40 MB\n",
      "Decreased by 75.5%\n",
      "Wall time: 928 ms\n"
     ]
    }
   ],
   "source": [
    "%%time\n",
    "# From kernel https://www.kaggle.com/gemartin/load-data-reduce-memory-usage\n",
    "# WARNING! THIS CAN DAMAGE THE DATA \n",
    "def reduce_mem_usage(df):\n",
    "    \"\"\" iterate through all the columns of a dataframe and modify the data type\n",
    "        to reduce memory usage.        \n",
    "    \"\"\"\n",
    "    start_mem = df.memory_usage().sum() / 1024**2\n",
    "    print('Memory usage of dataframe is {:.2f} MB'.format(start_mem))\n",
    "    \n",
    "    for col in df.columns:\n",
    "        col_type = df[col].dtype\n",
    "        \n",
    "        if col_type != object:\n",
    "            c_min = df[col].min()\n",
    "            c_max = df[col].max()\n",
    "            if str(col_type)[:3] == 'int':\n",
    "                if c_min > np.iinfo(np.int8).min and c_max < np.iinfo(np.int8).max:\n",
    "                    df[col] = df[col].astype(np.int8)\n",
    "                elif c_min > np.iinfo(np.int16).min and c_max < np.iinfo(np.int16).max:\n",
    "                    df[col] = df[col].astype(np.int16)\n",
    "                elif c_min > np.iinfo(np.int32).min and c_max < np.iinfo(np.int32).max:\n",
    "                    df[col] = df[col].astype(np.int32)\n",
    "                elif c_min > np.iinfo(np.int64).min and c_max < np.iinfo(np.int64).max:\n",
    "                    df[col] = df[col].astype(np.int64)  \n",
    "            else:\n",
    "                if c_min > np.finfo(np.float16).min and c_max < np.finfo(np.float16).max:\n",
    "                    df[col] = df[col].astype(np.float16)\n",
    "                elif c_min > np.finfo(np.float32).min and c_max < np.finfo(np.float32).max:\n",
    "                    df[col] = df[col].astype(np.float32)\n",
    "                else:\n",
    "                    df[col] = df[col].astype(np.float64)\n",
    "        else:\n",
    "            df[col] = df[col].astype('category')\n",
    "\n",
    "    end_mem = df.memory_usage().sum() / 1024**2\n",
    "    print('Memory usage after optimization is: {:.2f} MB'.format(end_mem))\n",
    "    print('Decreased by {:.1f}%'.format(100 * (start_mem - end_mem) / start_mem))\n",
    "    \n",
    "    return df\n",
    "X_train = reduce_mem_usage(X_train)\n",
    "X_test = reduce_mem_usage(X_test)"
   ]
  },
  {
   "cell_type": "code",
   "execution_count": 46,
   "metadata": {},
   "outputs": [
    {
     "data": {
      "text/plain": [
       "499"
      ]
     },
     "execution_count": 46,
     "metadata": {},
     "output_type": "execute_result"
    }
   ],
   "source": [
    "X_test.shape[0]"
   ]
  },
  {
   "cell_type": "code",
   "execution_count": 48,
   "metadata": {},
   "outputs": [
    {
     "name": "stdout",
     "output_type": "stream",
     "text": [
      "ROC AUC 0.8424242424242424\n",
      "ROC AUC 0.796523517382413\n",
      "ROC AUC 0.8109756097560976\n",
      "Wall time: 3.76 s\n"
     ]
    }
   ],
   "source": [
    "%%time\n",
    "from sklearn.model_selection import KFold\n",
    "from sklearn.metrics import roc_auc_score\n",
    "EPOCHS = 3\n",
    "kf = KFold(n_splits = EPOCHS, shuffle = True)\n",
    "y_preds = np.zeros(X_test.shape[0])\n",
    "y_oof = np.zeros(X_train.shape[0])\n",
    "for tr_idx, val_idx in kf.split(X_train, y_train):\n",
    "    clf = xgb.XGBClassifier(\n",
    "        n_estimators=500,\n",
    "        max_depth=9,\n",
    "        learning_rate=0.05,\n",
    "        subsample=0.9,\n",
    "        colsample_bytree=0.9,\n",
    "        tree_method='auto'\n",
    "    )\n",
    "    \n",
    "    X_tr, X_vl = X_train.iloc[tr_idx, :], X_train.iloc[val_idx, :]\n",
    "    y_tr, y_vl = y_train.iloc[tr_idx], y_train.iloc[val_idx]\n",
    "    clf.fit(X_tr, y_tr)\n",
    "    y_pred_train = clf.predict_proba(X_vl)[:,1]\n",
    "    y_oof[val_idx] = y_pred_train\n",
    "    print('ROC AUC {}'.format(roc_auc_score(y_vl, y_pred_train)))\n",
    "    \n",
    "    y_preds+= clf.predict_proba(X_test)[:,1] / EPOCHS"
   ]
  },
  {
   "cell_type": "code",
   "execution_count": 16,
   "metadata": {},
   "outputs": [
    {
     "ename": "NameError",
     "evalue": "name 'X_train' is not defined",
     "output_type": "error",
     "traceback": [
      "\u001b[1;31m---------------------------------------------------------------------------\u001b[0m",
      "\u001b[1;31mNameError\u001b[0m                                 Traceback (most recent call last)",
      "\u001b[1;32m<timed exec>\u001b[0m in \u001b[0;36m<module>\u001b[1;34m\u001b[0m\n",
      "\u001b[1;31mNameError\u001b[0m: name 'X_train' is not defined"
     ]
    }
   ],
   "source": [
    "%%time\n",
    "from sklearn.model_selection import KFold\n",
    "from sklearn.metrics import roc_auc_score\n",
    "EPOCHS = 3\n",
    "kf = KFold(n_splits = EPOCHS, shuffle = True)\n",
    "y_preds = np.zeros(test.shape[0])\n",
    "y_oof = np.zeros(X_train.shape[0])\n",
    "for tr_idx, val_idx in kf.split(X_train, y_train):\n",
    "    clf = xgb.XGBClassifier(\n",
    "        n_estimators=500,\n",
    "        max_depth=9,\n",
    "        learning_rate=0.05,\n",
    "        subsample=0.9,\n",
    "        colsample_bytree=0.9,\n",
    "        tree_method='gpu_hist'\n",
    "    )\n",
    "    \n",
    "    X_tr, X_vl = X_train.iloc[tr_idx, :], X_train.iloc[val_idx, :]\n",
    "    y_tr, y_vl = y_train.iloc[tr_idx], y_train.iloc[val_idx]\n",
    "    clf.fit(X_tr, y_tr)\n",
    "    y_pred_train = clf.predict_proba(X_vl)[:,1]\n",
    "    y_oof[val_idx] = y_pred_train\n",
    "    print('ROC AUC {}'.format(roc_auc_score(y_vl, y_pred_train)))\n",
    "    \n",
    "    y_preds+= clf.predict_proba(X_test)[:,1] / EPOCHS"
   ]
  },
  {
   "cell_type": "code",
   "execution_count": 7,
   "metadata": {},
   "outputs": [
    {
     "data": {
      "text/plain": [
       "9815912"
      ]
     },
     "execution_count": 7,
     "metadata": {},
     "output_type": "execute_result"
    }
   ],
   "source": [
    "df.isna().sum().sum()"
   ]
  },
  {
   "cell_type": "code",
   "execution_count": null,
   "metadata": {},
   "outputs": [],
   "source": []
  }
 ],
 "metadata": {
  "kernelspec": {
   "display_name": "Python 3",
   "language": "python",
   "name": "python3"
  },
  "language_info": {
   "codemirror_mode": {
    "name": "ipython",
    "version": 3
   },
   "file_extension": ".py",
   "mimetype": "text/x-python",
   "name": "python",
   "nbconvert_exporter": "python",
   "pygments_lexer": "ipython3",
   "version": "3.7.3"
  }
 },
 "nbformat": 4,
 "nbformat_minor": 2
}
