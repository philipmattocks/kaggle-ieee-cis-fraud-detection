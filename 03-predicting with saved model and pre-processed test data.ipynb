{
 "cells": [
  {
   "cell_type": "code",
   "execution_count": 2,
   "metadata": {},
   "outputs": [],
   "source": [
    "import pandas as pd\n",
    "from datetime import datetime as dt\n",
    "from joblib import dump, load\n",
    "import os\n",
    "validation = pd.read_pickle(\"./data/processed/test_processed.pkl\")"
   ]
  },
  {
   "cell_type": "code",
   "execution_count": 7,
   "metadata": {},
   "outputs": [],
   "source": [
    "clf = load('./data/interim/11-09-2019_09-15-18_random_foest_base.joblib')\n",
    "y_pred=clf.predict_proba(validation)"
   ]
  },
  {
   "cell_type": "code",
   "execution_count": 8,
   "metadata": {},
   "outputs": [
    {
     "data": {
      "text/plain": [
       "array([0.27330682, 0.2286905 , 0.2474569 , ..., 0.29537663, 0.28588108,\n",
       "       0.31756995])"
      ]
     },
     "execution_count": 8,
     "metadata": {},
     "output_type": "execute_result"
    }
   ],
   "source": [
    "y_pred[:,1]"
   ]
  },
  {
   "cell_type": "code",
   "execution_count": 17,
   "metadata": {},
   "outputs": [
    {
     "data": {
      "text/plain": [
       "['./data/predictions/11-09-2019_09-31-00/random_foest_base.joblib']"
      ]
     },
     "execution_count": 17,
     "metadata": {},
     "output_type": "execute_result"
    }
   ],
   "source": [
    "datetimestring=dt.now().strftime(\"%d-%m-%Y_%H-%M-%S\")\n",
    "os.mkdir('./data/predictions/'+datetimestring)\n",
    "validation['isFraud']=y_pred[:,1]\n",
    "validation['TransactionID']=list(validation.index)\n",
    "validation[['TransactionID','isFraud']].to_csv('./data/predictions/'+datetimestring+'/prediction_results.csv',index = False)\n",
    "dump(clf, './data/predictions/'+datetimestring+'/random_foest_base.joblib')"
   ]
  },
  {
   "cell_type": "code",
   "execution_count": 11,
   "metadata": {},
   "outputs": [
    {
     "data": {
      "text/plain": [
       "TransactionID\n",
       "3663549    0.273307\n",
       "3663550    0.228690\n",
       "3663551    0.247457\n",
       "3663552    0.273203\n",
       "3663553    0.284083\n",
       "Name: isFraud, dtype: float64"
      ]
     },
     "execution_count": 11,
     "metadata": {},
     "output_type": "execute_result"
    }
   ],
   "source": []
  }
 ],
 "metadata": {
  "kernelspec": {
   "display_name": "Python 3",
   "language": "python",
   "name": "python3"
  },
  "language_info": {
   "codemirror_mode": {
    "name": "ipython",
    "version": 3
   },
   "file_extension": ".py",
   "mimetype": "text/x-python",
   "name": "python",
   "nbconvert_exporter": "python",
   "pygments_lexer": "ipython3",
   "version": "3.7.3"
  }
 },
 "nbformat": 4,
 "nbformat_minor": 2
}
