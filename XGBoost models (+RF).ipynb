{
 "cells": [
  {
   "cell_type": "markdown",
   "metadata": {},
   "source": [
    "**Simple data processing, no feature engineering, just encoding categoricals and imputing NAs.**"
   ]
  },
  {
   "cell_type": "code",
   "execution_count": 2,
   "metadata": {},
   "outputs": [],
   "source": [
    "from FraudKagglePreProcessData import PreProcessData\n",
    "import datetime\n",
    "from datetime import timedelta\n",
    "from datetime import datetime as dt\n",
    "import pandas as pd\n",
    "import numpy as np\n",
    "import re\n",
    "from sklearn.impute import SimpleImputer\n",
    "from sklearn import preprocessing\n",
    "from sklearn.ensemble import RandomForestClassifier\n",
    "from sklearn.model_selection import train_test_split\n",
    "from sklearn.model_selection import GridSearchCV\n",
    "from sklearn.model_selection import RandomizedSearchCV\n",
    "from sklearn.metrics import roc_auc_score\n",
    "import warnings\n",
    "import os\n",
    "from joblib import dump,load\n",
    "from sklearn import metrics\n",
    "import xgboost as xgb\n",
    "import category_encoders as ce\n",
    "from sklearn.model_selection import StratifiedKFold\n",
    "from sklearn.metrics import recall_score\n",
    "warnings.filterwarnings(\"ignore\")"
   ]
  },
  {
   "cell_type": "markdown",
   "metadata": {},
   "source": [
    "<h2> Data Loading and prep <h2>"
   ]
  },
  {
   "cell_type": "code",
   "execution_count": 28,
   "metadata": {},
   "outputs": [],
   "source": [
    "def load_and_merge_data(transaction_csv,identity_csv,isTrain):\n",
    "    df_transaction = pd.read_csv(transaction_csv, index_col='TransactionID')\n",
    "    df_identity = pd.read_csv(identity_csv, index_col='TransactionID')\n",
    "    df = pd.merge(df_transaction, df_identity, on='TransactionID', how='left')\n",
    "    del df_transaction\n",
    "    del df_identity\n",
    "    if isTrain:\n",
    "        labels = df[['isFraud']]\n",
    "        df.pop('isFraud')\n",
    "    else:\n",
    "        labels = []\n",
    "    return df, labels\n"
   ]
  },
  {
   "cell_type": "code",
   "execution_count": 29,
   "metadata": {
    "scrolled": true
   },
   "outputs": [
    {
     "name": "stdout",
     "output_type": "stream",
     "text": [
      "time taken: 0:00:57.601387\n"
     ]
    }
   ],
   "source": [
    "start=dt.now()\n",
    "train,labels  = load_and_merge_data('./data/raw/train_transaction.csv','./data/raw/train_identity.csv',isTrain=True)\n",
    "validate,vallabels  = load_and_merge_data('./data/raw/test_transaction.csv','./data/raw/test_identity.csv',isTrain=False)\n",
    "finish=dt.now()\n",
    "print('time taken: '+str(finish-start))"
   ]
  },
  {
   "cell_type": "code",
   "execution_count": 57,
   "metadata": {},
   "outputs": [],
   "source": [
    "#train.to_pickle('./data/interim/train_joined.pkl')\n",
    "#validate.to_pickle('./data/interim/test_joined.pkl')\n",
    "#labels.to_pickle('./data/interim/labels.pkl')\n",
    "train = pd.read_pickle('./data/interim/train_joined.pkl')\n",
    "validate = pd.read_pickle('./data/interim/test_joined.pkl')\n",
    "labels = pd.read_pickle('./data/interim/labels.pkl')"
   ]
  },
  {
   "cell_type": "code",
   "execution_count": 45,
   "metadata": {},
   "outputs": [],
   "source": [
    "#train = train.head(2000)\n",
    "#labels = labels.head(2000)"
   ]
  },
  {
   "cell_type": "code",
   "execution_count": 58,
   "metadata": {},
   "outputs": [
    {
     "name": "stdout",
     "output_type": "stream",
     "text": [
      "(590540, 432)\n",
      "(590540, 1)\n",
      "(506691, 432)\n"
     ]
    }
   ],
   "source": [
    "print(train.shape)\n",
    "print(labels.shape)\n",
    "print(validate.shape)"
   ]
  },
  {
   "cell_type": "code",
   "execution_count": 59,
   "metadata": {},
   "outputs": [],
   "source": [
    "def process_dates(df):\n",
    "    START_DATE = '2017-12-01'\n",
    "    startdate = datetime.datetime.strptime(START_DATE, '%Y-%m-%d')\n",
    "    df['TransactionDT_converted'] = df['TransactionDT'].apply(lambda x: (startdate + datetime.timedelta(seconds=x)))\n",
    "    #df['time_year'] = df['TransactionDT_converted'].dt.year\n",
    "    #df['time_month'] = df['TransactionDT_converted'].dt.month\n",
    "    df['time_dow'] = df['TransactionDT_converted'].dt.dayofweek\n",
    "    df['time_hour'] = df['TransactionDT_converted'].dt.hour\n",
    "    #df['time_day'] = df['TransactionDT_converted'].dt.day\n",
    "    df = df.drop(columns=\"TransactionDT_converted\")\n",
    "    #df = df.drop(columns=\"time_year\")\n",
    "    #df = df.drop(columns=\"time_month\")\n",
    "    #df = df.drop(columns=\"time_day\")\n",
    "    return df\n",
    "#start=dt.now()\n",
    "train = process_dates(train)\n",
    "validate = process_dates(validate)\n",
    "#finish=dt.now()\n",
    "#print('time taken: '+str(finish-start))"
   ]
  },
  {
   "cell_type": "code",
   "execution_count": 60,
   "metadata": {},
   "outputs": [
    {
     "name": "stdout",
     "output_type": "stream",
     "text": [
      "(590540, 434)\n",
      "(590540, 1)\n"
     ]
    }
   ],
   "source": [
    "print(train.shape)\n",
    "print(labels.shape)"
   ]
  },
  {
   "cell_type": "code",
   "execution_count": 61,
   "metadata": {},
   "outputs": [
    {
     "name": "stdout",
     "output_type": "stream",
     "text": [
      "time taken: 0:00:00.001994\n"
     ]
    }
   ],
   "source": [
    "def get_lists_of_numerical_categorical(df,regex):\n",
    "    #Regex for categorical fields:\n",
    "    categorical = []\n",
    "    numerical = []\n",
    "\n",
    "    #Create lists of categorical and numeircal fields:\n",
    "    for i in df:\n",
    "        if re.match(regex, i):\n",
    "            categorical.append(i)\n",
    "        else:\n",
    "            numerical.append(i)\n",
    "    return numerical,categorical\n",
    "start=dt.now()\n",
    "cat_columns_regex='ProductCD|card[1-6]|addr\\d|\\w_emaildomain|M[1-9]|time_|Device\\w+|id_12|id_13|id_14|id_15|id_16|id_17|id_18|id_19|id_20|id_21|id_22|id_23|id_24|id_25|id_26|id_27|id_28|id_29|id_30|id_31|id_32|id_33|id_34|id_35|id_36|id_37|id_38'\n",
    "numerical,categorical = get_lists_of_numerical_categorical(train,cat_columns_regex)\n",
    "finish=dt.now()\n",
    "print('time taken: '+str(finish-start))"
   ]
  },
  {
   "cell_type": "code",
   "execution_count": 62,
   "metadata": {
    "scrolled": true
   },
   "outputs": [
    {
     "name": "stdout",
     "output_type": "stream",
     "text": [
      "time taken: 0:09:31.748077\n"
     ]
    }
   ],
   "source": [
    "def binary_encode_categoricals(df,categorical):\n",
    "    encoder = ce.BinaryEncoder(cols=categorical).fit(df)\n",
    "    return encoder\n",
    "start = dt.now()\n",
    "encoder= binary_encode_categoricals(train,categorical)\n",
    "train = encoder.transform(train)\n",
    "validate = encoder.transform(validate)\n",
    "finish=dt.now()\n",
    "print('time taken: '+str(finish-start))"
   ]
  },
  {
   "cell_type": "code",
   "execution_count": 64,
   "metadata": {},
   "outputs": [
    {
     "name": "stdout",
     "output_type": "stream",
     "text": [
      "(590540, 675)\n",
      "(590540, 1)\n"
     ]
    }
   ],
   "source": [
    "print(train.shape)\n",
    "print(labels.shape)"
   ]
  },
  {
   "cell_type": "code",
   "execution_count": 34,
   "metadata": {},
   "outputs": [
    {
     "name": "stdout",
     "output_type": "stream",
     "text": [
      "time taken: 0:00:00\n"
     ]
    }
   ],
   "source": [
    "start=dt.now()\n",
    "def numerically_encode_string_categoricals(df):\n",
    "    for i in df.columns:\n",
    "        if df[i].dtype == 'object':\n",
    "            lbl = preprocessing.LabelEncoder()\n",
    "            lbl.fit(list(df[i].values) + list(df[i].values))\n",
    "            df[i] = lbl.transform(list(df[i].values))\n",
    "    return df\n",
    "#train = numerically_encode_string_categoricals(train)\n",
    "#validate = numerically_encode_string_categoricals(validate)\n",
    "finish=dt.now()\n",
    "print('time taken: '+str(finish-start))"
   ]
  },
  {
   "cell_type": "code",
   "execution_count": 65,
   "metadata": {},
   "outputs": [],
   "source": [
    "# From kernel https://www.kaggle.com/gemartin/load-data-reduce-memory-usage\n",
    "# WARNING! THIS CAN DAMAGE THE DATA \n",
    "def reduce_mem_usage(df):\n",
    "    \"\"\" iterate through all the columns of a dataframe and modify the data type\n",
    "        to reduce memory usage.        \n",
    "    \"\"\"\n",
    "    start_mem = df.memory_usage().sum() / 1024**2\n",
    "    print('Memory usage of dataframe is {:.2f} MB'.format(start_mem))\n",
    "    \n",
    "    for col in df.columns:\n",
    "        col_type = df[col].dtype\n",
    "        \n",
    "        if col_type != object:\n",
    "            c_min = df[col].min()\n",
    "            c_max = df[col].max()\n",
    "            if str(col_type)[:3] == 'int':\n",
    "                if c_min > np.iinfo(np.int8).min and c_max < np.iinfo(np.int8).max:\n",
    "                    df[col] = df[col].astype(np.int8)\n",
    "                elif c_min > np.iinfo(np.int16).min and c_max < np.iinfo(np.int16).max:\n",
    "                    df[col] = df[col].astype(np.int16)\n",
    "                elif c_min > np.iinfo(np.int32).min and c_max < np.iinfo(np.int32).max:\n",
    "                    df[col] = df[col].astype(np.int32)\n",
    "                elif c_min > np.iinfo(np.int64).min and c_max < np.iinfo(np.int64).max:\n",
    "                    df[col] = df[col].astype(np.int64)  \n",
    "            else:\n",
    "                if c_min > np.finfo(np.float16).min and c_max < np.finfo(np.float16).max:\n",
    "                    df[col] = df[col].astype(np.float16)\n",
    "                elif c_min > np.finfo(np.float32).min and c_max < np.finfo(np.float32).max:\n",
    "                    df[col] = df[col].astype(np.float32)\n",
    "                else:\n",
    "                    df[col] = df[col].astype(np.float64)\n",
    "        else:\n",
    "            df[col] = df[col].astype('category')\n",
    "\n",
    "    end_mem = df.memory_usage().sum() / 1024**2\n",
    "    print('Memory usage after optimization is: {:.2f} MB'.format(end_mem))\n",
    "    print('Decreased by {:.1f}%'.format(100 * (start_mem - end_mem) / start_mem))\n",
    "    \n",
    "    return df"
   ]
  },
  {
   "cell_type": "markdown",
   "metadata": {},
   "source": [
    "Impute missing values on numerical features with median and categorical with mode"
   ]
  },
  {
   "cell_type": "code",
   "execution_count": 66,
   "metadata": {},
   "outputs": [
    {
     "name": "stdout",
     "output_type": "stream",
     "text": [
      "time taken: 0:02:47.282540\n"
     ]
    }
   ],
   "source": [
    "start=dt.now()\n",
    "def impute_cat_and_num(df,numerical,categorical):\n",
    "    fill_NaN_numerical = SimpleImputer(missing_values=np.nan, strategy='median')\n",
    "    #fill_NaN_categorical = SimpleImputer(missing_values=np.nan, strategy='most_frequent')\n",
    "    df[numerical] = fill_NaN_numerical.fit_transform(df[numerical])\n",
    "    #df[categorical] = fill_NaN_categorical.fit_transform(df[categorical])\n",
    "    return df\n",
    "train = impute_cat_and_num(train,numerical,categorical)\n",
    "validate = impute_cat_and_num(validate,numerical,categorical)\n",
    "finish=dt.now()\n",
    "print('time taken: '+str(finish-start))"
   ]
  },
  {
   "cell_type": "code",
   "execution_count": 67,
   "metadata": {},
   "outputs": [
    {
     "name": "stdout",
     "output_type": "stream",
     "text": [
      "(590540, 675)\n",
      "(590540, 1)\n"
     ]
    }
   ],
   "source": [
    "print(train.shape)\n",
    "print(labels.shape)"
   ]
  },
  {
   "cell_type": "code",
   "execution_count": 68,
   "metadata": {},
   "outputs": [
    {
     "name": "stdout",
     "output_type": "stream",
     "text": [
      "Memory usage of dataframe is 3045.69 MB\n",
      "Memory usage after optimization is: 652.17 MB\n",
      "Decreased by 78.6%\n",
      "Memory usage of dataframe is 2613.24 MB\n",
      "Memory usage after optimization is: 567.30 MB\n",
      "Decreased by 78.3%\n",
      "time taken: 0:03:54.411998\n"
     ]
    }
   ],
   "source": [
    "start=dt.now()\n",
    "train = reduce_mem_usage(train)\n",
    "finish=dt.now()\n",
    "validate = reduce_mem_usage(validate)\n",
    "print('time taken: '+str(finish-start))"
   ]
  },
  {
   "cell_type": "code",
   "execution_count": 69,
   "metadata": {},
   "outputs": [
    {
     "name": "stdout",
     "output_type": "stream",
     "text": [
      "(590540, 675)\n",
      "(590540, 1)\n"
     ]
    }
   ],
   "source": [
    "print(train.shape)\n",
    "print(labels.shape)"
   ]
  },
  {
   "cell_type": "code",
   "execution_count": 3,
   "metadata": {},
   "outputs": [],
   "source": [
    "#train.to_pickle('./data/interim/train_joined.pkl')\n",
    "#validate.to_pickle('./data/interim/test_joined.pkl')\n",
    "#labels.to_pickle('./data/interim/labels.pkl')\n",
    "train = pd.read_pickle('./data/interim/train_joined.pkl')\n",
    "#validate = pd.read_pickle('./data/interim/test_joined.pkl')\n",
    "labels = pd.read_pickle('./data/interim/labels.pkl')"
   ]
  },
  {
   "cell_type": "code",
   "execution_count": 129,
   "metadata": {},
   "outputs": [],
   "source": [
    "#train=train.head(2000)\n",
    "#validate=validate.head(2000)\n",
    "#labels=labels.head(2000)"
   ]
  },
  {
   "cell_type": "code",
   "execution_count": 4,
   "metadata": {},
   "outputs": [
    {
     "data": {
      "text/plain": [
       "20"
      ]
     },
     "execution_count": 4,
     "metadata": {},
     "output_type": "execute_result"
    }
   ],
   "source": [
    "import gc\n",
    "gc.collect()"
   ]
  },
  {
   "cell_type": "markdown",
   "metadata": {},
   "source": [
    "Split train into train and test for validating initial model"
   ]
  },
  {
   "cell_type": "code",
   "execution_count": 5,
   "metadata": {},
   "outputs": [
    {
     "name": "stdout",
     "output_type": "stream",
     "text": [
      "time taken: 0:00:01.891091\n"
     ]
    }
   ],
   "source": [
    "start=dt.now()\n",
    "X_train, X_test, y_train, y_test = train_test_split(train, labels, test_size=0.2,random_state=42)\n",
    "finish=dt.now()\n",
    "print('time taken: '+str(finish-start))\n",
    "del train\n",
    "del labels"
   ]
  },
  {
   "cell_type": "markdown",
   "metadata": {},
   "source": [
    "<h3>XGBoost<h3>"
   ]
  },
  {
   "cell_type": "code",
   "execution_count": 131,
   "metadata": {},
   "outputs": [],
   "source": [
    "dtrain = xgb.DMatrix(X_train, y_train)\n",
    "dtest = xgb.DMatrix(X_test, y_test)"
   ]
  },
  {
   "cell_type": "code",
   "execution_count": 125,
   "metadata": {},
   "outputs": [],
   "source": [
    "import xgboost as xgb"
   ]
  },
  {
   "cell_type": "code",
   "execution_count": 132,
   "metadata": {},
   "outputs": [
    {
     "name": "stdout",
     "output_type": "stream",
     "text": [
      "1 1.857130527496338\n",
      "2 0.9725604057312012\n",
      "3 0.689157247543335\n",
      "4 0.5794813632965088\n",
      "5 0.587428092956543\n",
      "6 0.5465373992919922\n",
      "7 0.5046665668487549\n",
      "8 0.50018310546875\n"
     ]
    },
    {
     "data": {
      "image/png": "[encoded data removed]",
      "text/plain": [
       "<Figure size 432x288 with 1 Axes>"
      ]
     },
     "metadata": {
      "needs_background": "light"
     },
     "output_type": "display_data"
    }
   ],
   "source": [
    "from pandas import read_csv\n",
    "from xgboost import XGBClassifier\n",
    "from sklearn.preprocessing import LabelEncoder\n",
    "import time\n",
    "from matplotlib import pyplot\n",
    "# load data\n",
    "# data = train\n",
    "dataset = train.values\n",
    "# split data into X and y\n",
    "X = X_train\n",
    "y = y_train\n",
    "# encode string class values as integers\n",
    "label_encoded_y = y_train\n",
    "# evaluate the effect of the number of threads\n",
    "results = []\n",
    "num_threads = [1, 2, 3, 4, 5 ,6,7,8]\n",
    "for n in num_threads:\n",
    "    start = time.time()\n",
    "    model = XGBClassifier(nthread=n)\n",
    "    model.fit(X, label_encoded_y)\n",
    "    elapsed = time.time() - start\n",
    "    print(n, elapsed)\n",
    "    results.append(elapsed)\n",
    "# plot results\n",
    "pyplot.plot(num_threads, results)\n",
    "pyplot.ylabel('Speed (seconds)')\n",
    "pyplot.xlabel('Number of Threads')\n",
    "pyplot.title('XGBoost Training Speed vs Number of Threads')\n",
    "pyplot.show()"
   ]
  },
  {
   "cell_type": "markdown",
   "metadata": {},
   "source": [
    "**with .fit and pandas DF**"
   ]
  },
  {
   "cell_type": "markdown",
   "metadata": {},
   "source": [
    "**Grid search**"
   ]
  },
  {
   "cell_type": "code",
   "execution_count": 178,
   "metadata": {},
   "outputs": [
    {
     "name": "stdout",
     "output_type": "stream",
     "text": [
      "Fitting 2 folds for each of 3 candidates, totalling 6 fits\n"
     ]
    },
    {
     "name": "stderr",
     "output_type": "stream",
     "text": [
      "[Parallel(n_jobs=5)]: Using backend LokyBackend with 5 concurrent workers.\n",
      "[Parallel(n_jobs=5)]: Done   6 out of   6 | elapsed:    3.1s finished\n"
     ]
    },
    {
     "name": "stdout",
     "output_type": "stream",
     "text": [
      "Accuracy: 0.98\n",
      "ROC area under: 0.8698979591836734\n"
     ]
    }
   ],
   "source": [
    "xgb_model = xgb.XGBClassifier()\n",
    "#brute force scan for all parameters, here are the tricks\n",
    "#usually max_depth is 6,7,8\n",
    "#learning rate is around 0.05, but small changes may make big diff\n",
    "#tuning min_child_weight subsample colsample_bytree can have \n",
    "#much fun of fighting against overfit \n",
    "#n_estimators is how many round of boosting\n",
    "#finally, ensemble xgboost with multiple seeds may reduce variance\n",
    "parameters = {'nthread':[7], #when use hyperthread, xgboost may become slower\n",
    "              'objective':['binary:logistic'],\n",
    "              'learning_rate': [0.05,0.04,0.06], #so called `eta` value\n",
    "              'max_depth': [10,11,12,13],\n",
    "              'min_child_weight': [6,11,15],\n",
    "              'silent': [1],\n",
    "              'subsample': [0.8],\n",
    "              'colsample_bytree': [0.7],\n",
    "              'n_estimators': [5,100,1000], #number of trees, change it to 1000 for better results\n",
    "              'missing':[-999],\n",
    "              'seed': [1337]\n",
    "             }\n",
    "clf = GridSearchCV(xgb_model, parameters, n_jobs=5, \n",
    "                   #cv=StratifiedKFold(y_train, n_splits=5, shuffle=True), \n",
    "                   cv=2,\n",
    "                   scoring='roc_auc',\n",
    "                   verbose=2, refit=True)\n",
    "\n",
    "\n",
    "clf.fit(X_train, y_train)\n",
    "\n",
    "#trust your CV!\n",
    "#best_parameters, score, _ = max(clf.cv_results_, key=lambda x: x[1])\n",
    "#print('Raw AUC score:', score)\n",
    "#for param_name in sorted(best_parameters.keys()):\n",
    "#    print(\"%s: %r\" % (param_name, best_parameters[param_name]))\n",
    "\n",
    "results = pd.DataFrame(clf.cv_results_).sort_values('mean_test_score', ascending=False)\n",
    "\n",
    "if 'all_results' in locals():\n",
    "    all_results = pd.concat([all_results,results])\n",
    "else:\n",
    "    all_results = results\n",
    "all_results[['params','mean_fit_time','mean_test_score']].sort_values('mean_test_score', ascending=False)\n",
    "\n",
    "y_pred_prob=clf.predict_proba(X_test)\n",
    "y_pred=clf.predict(X_test)\n",
    "print(\"Accuracy:\",metrics.accuracy_score(y_test, y_pred))\n",
    "print(\"ROC area under:\",metrics.roc_auc_score(y_test, y_pred_prob[:,1]))"
   ]
  },
  {
   "cell_type": "markdown",
   "metadata": {},
   "source": [
    "**Randomised grid search**"
   ]
  },
  {
   "cell_type": "code",
   "execution_count": null,
   "metadata": {},
   "outputs": [
    {
     "name": "stdout",
     "output_type": "stream",
     "text": [
      "2019-09-24 09:07:14.602377\n",
      "Fitting 2 folds for each of 5 candidates, totalling 10 fits\n"
     ]
    },
    {
     "name": "stderr",
     "output_type": "stream",
     "text": [
      "[Parallel(n_jobs=-1)]: Using backend LokyBackend with 8 concurrent workers.\n"
     ]
    }
   ],
   "source": [
    "import scipy.stats as st\n",
    "\n",
    "one_to_left = st.beta(10, 1)  \n",
    "from_zero_positive = st.expon(0, 50)\n",
    "\n",
    "params = {  \n",
    "    \"n_estimators\": st.randint(100, 1000),\n",
    "    \"max_depth\": st.randint(3, 15),\n",
    "    \"learning_rate\": st.uniform(0.03, 0.06),\n",
    "    \"colsample_bytree\": one_to_left,\n",
    "    \"subsample\": one_to_left,\n",
    "    \"gamma\": st.uniform(0, 10),\n",
    "    'reg_alpha': from_zero_positive,\n",
    "    \"min_child_weight\": from_zero_positive,\n",
    "}\n",
    "start=dt.now()\n",
    "print(start)\n",
    "\n",
    "xgbreg =xgb.XGBClassifier(nthreads=7)  \n",
    "\n",
    "from sklearn.model_selection import RandomizedSearchCV\n",
    "\n",
    "gs = RandomizedSearchCV(xgbreg, params,  n_iter = 5, cv = 2, verbose=2, random_state=42, n_jobs = -1, scoring='roc_auc') \n",
    "#(estimator = rf, param_distributions = random_grid, n_iter = 1, cv = 2, verbose=2, random_state=42, n_jobs = -1)\n",
    "gs.fit(X_train, y_train)  \n",
    "finish=dt.now()\n",
    "print('time taken: '+str(finish-start))\n",
    "xgbm = gs.best_estimator_\n",
    "results = pd.DataFrame(gs.cv_results_).sort_values('mean_test_score', ascending=False)\n",
    "results.filter(regex='mean_test_score|mean_fit_time|param')"
   ]
  },
  {
   "cell_type": "code",
   "execution_count": 7,
   "metadata": {},
   "outputs": [
    {
     "ename": "NameError",
     "evalue": "name 'results' is not defined",
     "output_type": "error",
     "traceback": [
      "\u001b[1;31m---------------------------------------------------------------------------\u001b[0m",
      "\u001b[1;31mNameError\u001b[0m                                 Traceback (most recent call last)",
      "\u001b[1;32m<ipython-input-7-8137ed9a7200>\u001b[0m in \u001b[0;36m<module>\u001b[1;34m\u001b[0m\n\u001b[1;32m----> 1\u001b[1;33m \u001b[0mresults\u001b[0m\u001b[1;33m.\u001b[0m\u001b[0mfilter\u001b[0m\u001b[1;33m(\u001b[0m\u001b[0mregex\u001b[0m\u001b[1;33m=\u001b[0m\u001b[1;34m'mean_test_score|mean_fit_time|param'\u001b[0m\u001b[1;33m)\u001b[0m\u001b[1;33m\u001b[0m\u001b[1;33m\u001b[0m\u001b[0m\n\u001b[0m",
      "\u001b[1;31mNameError\u001b[0m: name 'results' is not defined"
     ]
    }
   ],
   "source": [
    "results.filter(regex='mean_test_score|mean_fit_time|param')"
   ]
  },
  {
   "cell_type": "code",
   "execution_count": null,
   "metadata": {},
   "outputs": [],
   "source": [
    "results = pd.DataFrame(gs.cv_results_).sort_values('mean_test_score', ascending=False)\n",
    "results.to_pickle('./data/interim/grid_search_results.pkl')"
   ]
  },
  {
   "cell_type": "code",
   "execution_count": 20,
   "metadata": {},
   "outputs": [
    {
     "name": "stdout",
     "output_type": "stream",
     "text": [
      "Accuracy: 0.9788922003589935\n",
      "ROC area under: 0.9374086129164142\n",
      "Recall: 0.4552098066949552\n",
      "Balanced Accuracy: 0.7268057183405396\n",
      "Precision Score: 0.9138665404637956\n"
     ]
    }
   ],
   "source": [
    "xgbm = gs.best_estimator_\n",
    "y_pred_prob=xgbm.predict_proba(X_test)\n",
    "y_pred=xgbm.predict(X_test)\n",
    "print(\"Accuracy:\",metrics.accuracy_score(y_test, y_pred))\n",
    "print(\"ROC area under:\",metrics.roc_auc_score(y_test, y_pred_prob[:,1]))\n",
    "print(\"Recall:\",metrics.recall_score(y_test, y_pred))\n",
    "print(\"Balanced Accuracy:\",metrics.balanced_accuracy_score(y_test, y_pred))\n",
    "print(\"Precision Score:\",metrics.precision_score(y_test, y_pred,pos_label=1,average='binary'))"
   ]
  },
  {
   "cell_type": "code",
   "execution_count": 23,
   "metadata": {},
   "outputs": [],
   "source": [
    "validate = pd.read_pickle('./data/interim/test_joined.pkl')\n",
    "val_pred=xgbm.predict_proba(validate)"
   ]
  },
  {
   "cell_type": "code",
   "execution_count": 25,
   "metadata": {},
   "outputs": [
    {
     "data": {
      "text/plain": [
       "['./data/predictions/24-09-2019_08-59-24/XGBoost_grid_search24-09-2019_08-59-24.joblib']"
      ]
     },
     "execution_count": 25,
     "metadata": {},
     "output_type": "execute_result"
    }
   ],
   "source": [
    "datetimestring=dt.now().strftime(\"%d-%m-%Y_%H-%M-%S\")\n",
    "os.mkdir('./data/predictions/'+datetimestring)\n",
    "validate['isFraud'] = val_pred[:,1]\n",
    "validate['TransactionID']=list(validate.index)\n",
    "validate[['TransactionID','isFraud']].to_csv('./data/predictions/'+datetimestring+'/prediction_results_'+datetimestring+'.csv',index = False)\n",
    "dump(xgbm, './data/predictions/'+datetimestring+'/XGBoost_'+datetimestring+'.joblib')\n",
    "dump(gs, './data/predictions/'+datetimestring+'/XGBoost_grid_search'+datetimestring+'.joblib')"
   ]
  },
  {
   "cell_type": "markdown",
   "metadata": {},
   "source": [
    "**Normal training with SciKit wrapper**"
   ]
  },
  {
   "cell_type": "code",
   "execution_count": 116,
   "metadata": {},
   "outputs": [
    {
     "name": "stdout",
     "output_type": "stream",
     "text": [
      "time taken: 0:10:17.327453\n"
     ]
    }
   ],
   "source": [
    "import xgboost as xgb\n",
    "start=dt.now()\n",
    "\n",
    "\n",
    "xgbm = xgb.XGBClassifier(\n",
    "        nthread=7,\n",
    "        #n_estimators=1000,\n",
    "        #max_depth=10,\n",
    "        max_depth=11,\n",
    "        #learning_rate=0.05,\n",
    "        learning_rate=0.053,\n",
    "        subsample=0.9,\n",
    "        colsample_bytree=0.9,\n",
    "        tree_method='auto',\n",
    "        booster='gbtree',\n",
    "        random_state = 42\n",
    "    )\n",
    "\n",
    "xgbm.fit(X_train, y_train)\n",
    "finish=dt.now()\n",
    "print('time taken: '+str(finish-start))"
   ]
  },
  {
   "cell_type": "code",
   "execution_count": 86,
   "metadata": {},
   "outputs": [],
   "source": [
    "#import pickle\n",
    "#xgbm_old = load('./data/interim/xgb_job_dir_15_model.pkl')"
   ]
  },
  {
   "cell_type": "code",
   "execution_count": 19,
   "metadata": {},
   "outputs": [
    {
     "data": {
      "text/plain": [
       "0.9788922003589935"
      ]
     },
     "execution_count": 19,
     "metadata": {},
     "output_type": "execute_result"
    }
   ],
   "source": [
    "xgbm.score(X_test, y_test)"
   ]
  },
  {
   "cell_type": "code",
   "execution_count": 89,
   "metadata": {},
   "outputs": [
    {
     "name": "stdout",
     "output_type": "stream",
     "text": [
      "Accuracy: 0.980610966234294\n",
      "ROC area under: 0.9460547252938232\n",
      "Recall: 0.5025931164545026\n",
      "Balanced Accuracy: 0.7505061554731368\n",
      "Precision Score: 0.9221453287197232\n"
     ]
    }
   ],
   "source": [
    "import xgboost as xgb\n",
    "y_pred_prob=xgbm.predict_proba(X_test)\n",
    "y_pred=xgbm.predict(X_test)\n",
    "print(\"Accuracy:\",metrics.accuracy_score(y_test, y_pred))\n",
    "print(\"ROC area under:\",metrics.roc_auc_score(y_test, y_pred_prob[:,1]))\n",
    "print(\"Recall:\",metrics.recall_score(y_test, y_pred))\n",
    "print(\"Balanced Accuracy:\",metrics.balanced_accuracy_score(y_test, y_pred))\n",
    "print(\"Precision Score:\",metrics.precision_score(y_test, y_pred,pos_label=1,average='binary'))"
   ]
  },
  {
   "cell_type": "code",
   "execution_count": null,
   "metadata": {},
   "outputs": [],
   "source": []
  },
  {
   "cell_type": "code",
   "execution_count": 5,
   "metadata": {},
   "outputs": [
    {
     "name": "stdout",
     "output_type": "stream",
     "text": [
      "Accuracy: 0.9859450672266061\n",
      "ROC area under: 0.9740302624838564\n",
      "Recall: 0.6322489391796322\n",
      "Balanced Accuracy: 0.8156853569486414\n",
      "Precision Score: 0.9640546369518332\n"
     ]
    }
   ],
   "source": [
    "import xgboost as xgb\n",
    "y_pred_prob=xgbm.predict_proba(X_test)\n",
    "y_pred=xgbm.predict(X_test)\n",
    "print(\"Accuracy:\",metrics.accuracy_score(y_test, y_pred))\n",
    "print(\"ROC area under:\",metrics.roc_auc_score(y_test, y_pred_prob[:,1]))\n",
    "print(\"Recall:\",metrics.recall_score(y_test, y_pred))\n",
    "print(\"Balanced Accuracy:\",metrics.balanced_accuracy_score(y_test, y_pred))\n",
    "print(\"Precision Score:\",metrics.precision_score(y_test, y_pred,pos_label=1,average='binary'))"
   ]
  },
  {
   "cell_type": "code",
   "execution_count": 18,
   "metadata": {},
   "outputs": [
    {
     "data": {
      "text/plain": [
       "0.4552098066949552"
      ]
     },
     "execution_count": 18,
     "metadata": {},
     "output_type": "execute_result"
    }
   ],
   "source": [
    "tp=0\n",
    "fp=0\n",
    "fn=0\n",
    "y_real = y_test['isFraud']\n",
    "for i,y_real_value in enumerate(y_real):\n",
    "    if y_real_value == y_pred[i] and y_pred[i]==1:\n",
    "        tp=tp+1\n",
    "    if y_real_value != y_pred[i] and y_pred[i]==1:\n",
    "        fp=fp+1\n",
    "    if y_real_value != y_pred[i] and y_pred[i]==0:\n",
    "        fn=fn+1\n",
    "tp/(fn+tp)"
   ]
  },
  {
   "cell_type": "markdown",
   "metadata": {},
   "source": [
    "**With .train and DMatrix**"
   ]
  },
  {
   "cell_type": "code",
   "execution_count": 128,
   "metadata": {},
   "outputs": [
    {
     "name": "stdout",
     "output_type": "stream",
     "text": [
      "time taken: 0:03:27.776969\n"
     ]
    }
   ],
   "source": [
    "import xgboost as xgb\n",
    "start=dt.now()\n",
    "#param_dict={'nthread' : 7,\n",
    "#        'n_estimators':500,\n",
    "#        'max_depth':9,\n",
    "#        'learning_rate':0.05,\n",
    "#        'subsample':0.9,\n",
    "#        'colsample_bytree':0.9,\n",
    "#        'tree_method':'auto'}\n",
    "param_dict = {'base_score':0.5,\n",
    "'booster':'gbtree',\n",
    "'colsample_bylevel':1,\n",
    "'colsample_bynode':1,\n",
    "'colsample_bytree':0.9,\n",
    "'gamma':0,\n",
    "'learning_rate':0.05,\n",
    "'max_delta_step':0,\n",
    "'max_depth':9,\n",
    "'min_child_weight':1,\n",
    "'n_estimators':500,#this has to be entered explicitly in the function\n",
    "'n_jobs':1,\n",
    "'nthread':7,\n",
    "'objective':'binary:logistic',\n",
    "'random_state':42,\n",
    "'reg_alpha':0,\n",
    "'reg_lambda':1,\n",
    "'scale_pos_weight':1,\n",
    "'seed':42,\n",
    "'subsample':0.9,\n",
    "'tree_method':'auto',\n",
    "'verbosity':1}\n",
    "#param_dict = {}\n",
    "xgbm_dmatrix = xgb.train(param_dict, dtrain, param_dict['n_estimators'])\n",
    "finish=dt.now()\n",
    "print('time taken: '+str(finish-start))"
   ]
  },
  {
   "cell_type": "code",
   "execution_count": 112,
   "metadata": {},
   "outputs": [
    {
     "data": {
      "text/plain": [
       "0.9337600767072696"
      ]
     },
     "execution_count": 112,
     "metadata": {},
     "output_type": "execute_result"
    }
   ],
   "source": [
    "y_pred_dtest_prob=xgbm_dmatrix.predict(dtest)\n",
    "roc_auc_score(y_test, y_pred_dtest_prob)"
   ]
  },
  {
   "cell_type": "code",
   "execution_count": 122,
   "metadata": {},
   "outputs": [],
   "source": [
    "#validate=validate.drop(['isFraud','TransactionID'], axis=1)\n",
    "import xgboost as xgb\n",
    "val_pred=xgbm.predict_proba(validate)"
   ]
  },
  {
   "cell_type": "code",
   "execution_count": 123,
   "metadata": {},
   "outputs": [
    {
     "data": {
      "text/plain": [
       "['./data/predictions/22-09-2019_09-14-41/XGBoost_22-09-2019_09-14-41.joblib']"
      ]
     },
     "execution_count": 123,
     "metadata": {},
     "output_type": "execute_result"
    }
   ],
   "source": [
    "datetimestring=dt.now().strftime(\"%d-%m-%Y_%H-%M-%S\")\n",
    "os.mkdir('./data/predictions/'+datetimestring)\n",
    "validate['isFraud'] = val_pred[:,1]\n",
    "validate['TransactionID']=list(validate.index)\n",
    "validate[['TransactionID','isFraud']].to_csv('./data/predictions/'+datetimestring+'/prediction_results_'+datetimestring+'.csv',index = False)\n",
    "dump(xgbm, './data/predictions/'+datetimestring+'/XGBoost_'+datetimestring+'.joblib')"
   ]
  },
  {
   "cell_type": "code",
   "execution_count": null,
   "metadata": {},
   "outputs": [],
   "source": []
  },
  {
   "cell_type": "markdown",
   "metadata": {},
   "source": [
    "<h3> Random Forest <h3>"
   ]
  },
  {
   "cell_type": "code",
   "execution_count": 122,
   "metadata": {},
   "outputs": [
    {
     "name": "stdout",
     "output_type": "stream",
     "text": [
      "time taken: 0:00:09.323619\n"
     ]
    },
    {
     "data": {
      "text/html": [
       "<div>\n",
       "<style scoped>\n",
       "    .dataframe tbody tr th:only-of-type {\n",
       "        vertical-align: middle;\n",
       "    }\n",
       "\n",
       "    .dataframe tbody tr th {\n",
       "        vertical-align: top;\n",
       "    }\n",
       "\n",
       "    .dataframe thead th {\n",
       "        text-align: right;\n",
       "    }\n",
       "</style>\n",
       "<table border=\"1\" class=\"dataframe\">\n",
       "  <thead>\n",
       "    <tr style=\"text-align: right;\">\n",
       "      <th></th>\n",
       "      <th>0</th>\n",
       "    </tr>\n",
       "  </thead>\n",
       "  <tbody>\n",
       "    <tr>\n",
       "      <th>card1</th>\n",
       "      <td>0.019595</td>\n",
       "    </tr>\n",
       "    <tr>\n",
       "      <th>TransactionAmt</th>\n",
       "      <td>0.017763</td>\n",
       "    </tr>\n",
       "    <tr>\n",
       "      <th>TransactionDT</th>\n",
       "      <td>0.014294</td>\n",
       "    </tr>\n",
       "    <tr>\n",
       "      <th>C13</th>\n",
       "      <td>0.014257</td>\n",
       "    </tr>\n",
       "    <tr>\n",
       "      <th>addr1</th>\n",
       "      <td>0.013064</td>\n",
       "    </tr>\n",
       "  </tbody>\n",
       "</table>\n",
       "</div>"
      ],
      "text/plain": [
       "                       0\n",
       "card1           0.019595\n",
       "TransactionAmt  0.017763\n",
       "TransactionDT   0.014294\n",
       "C13             0.014257\n",
       "addr1           0.013064"
      ]
     },
     "execution_count": 122,
     "metadata": {},
     "output_type": "execute_result"
    }
   ],
   "source": [
    "start=dt.now()\n",
    "rf = RandomForestClassifier(random_state=42,n_estimators = 100, max_depth=25)\n",
    "rf.fit(X_train, y_train)\n",
    "finish=dt.now()\n",
    "print('time taken: '+str(finish-start))\n",
    "important_features = pd.DataFrame(rf.feature_importances_,features).sort_values(0,ascending=False)\n",
    "important_features.head(5)"
   ]
  },
  {
   "cell_type": "code",
   "execution_count": 123,
   "metadata": {
    "scrolled": true
   },
   "outputs": [
    {
     "name": "stdout",
     "output_type": "stream",
     "text": [
      "Accuracy: 0.9824\n",
      "ROC area under: 0.8784834989151536\n"
     ]
    }
   ],
   "source": [
    "y_pred_prob=rf.predict_proba(X_test)\n",
    "y_pred=rf.predict(X_test)\n",
    "print(\"Accuracy:\",metrics.accuracy_score(y_test, y_pred))\n",
    "print(\"ROC area under:\",metrics.roc_auc_score(y_test, y_pred_prob[:,1]))"
   ]
  },
  {
   "cell_type": "code",
   "execution_count": 170,
   "metadata": {},
   "outputs": [],
   "source": [
    "all_results = pd.read_pickle('./data/interim/grid_search_results.pkl')"
   ]
  },
  {
   "cell_type": "markdown",
   "metadata": {},
   "source": [
    "**Grid search using cross validation for hyperparameter tuning**"
   ]
  },
  {
   "cell_type": "code",
   "execution_count": 171,
   "metadata": {},
   "outputs": [
    {
     "name": "stdout",
     "output_type": "stream",
     "text": [
      "Fitting 3 folds for each of 2 candidates, totalling 6 fits\n"
     ]
    },
    {
     "name": "stderr",
     "output_type": "stream",
     "text": [
      "[Parallel(n_jobs=-1)]: Using backend LokyBackend with 8 concurrent workers.\n",
      "[Parallel(n_jobs=-1)]: Done   3 out of   6 | elapsed:    2.1s remaining:    2.1s\n",
      "[Parallel(n_jobs=-1)]: Done   6 out of   6 | elapsed:    2.3s finished\n"
     ]
    }
   ],
   "source": [
    "rf = RandomForestClassifier(random_state = 42)\n",
    "param = {'n_estimators': [300, 500],\n",
    "        'max_depth': [50]}\n",
    "\n",
    "gs = GridSearchCV(rf, param, cv=3, n_jobs=-1,scoring='roc_auc',verbose=2)\n",
    "gs_fit = gs.fit(X_train, y_train)\n",
    "\n",
    "results = pd.DataFrame(gs_fit.cv_results_).sort_values('mean_test_score', ascending=False)\n",
    "\n",
    "if 'all_results' in locals():\n",
    "    all_results = pd.concat([all_results,results])\n",
    "else:\n",
    "    all_results = results"
   ]
  },
  {
   "cell_type": "code",
   "execution_count": 172,
   "metadata": {},
   "outputs": [
    {
     "data": {
      "text/html": [
       "<div>\n",
       "<style scoped>\n",
       "    .dataframe tbody tr th:only-of-type {\n",
       "        vertical-align: middle;\n",
       "    }\n",
       "\n",
       "    .dataframe tbody tr th {\n",
       "        vertical-align: top;\n",
       "    }\n",
       "\n",
       "    .dataframe thead th {\n",
       "        text-align: right;\n",
       "    }\n",
       "</style>\n",
       "<table border=\"1\" class=\"dataframe\">\n",
       "  <thead>\n",
       "    <tr style=\"text-align: right;\">\n",
       "      <th></th>\n",
       "      <th>params</th>\n",
       "      <th>mean_fit_time</th>\n",
       "      <th>mean_test_score</th>\n",
       "    </tr>\n",
       "  </thead>\n",
       "  <tbody>\n",
       "    <tr>\n",
       "      <th>0</th>\n",
       "      <td>{'max_depth': 50, 'n_estimators': 300}</td>\n",
       "      <td>0.462763</td>\n",
       "      <td>0.973303</td>\n",
       "    </tr>\n",
       "    <tr>\n",
       "      <th>0</th>\n",
       "      <td>{'max_depth': 50, 'n_estimators': 300}</td>\n",
       "      <td>0.234372</td>\n",
       "      <td>0.973303</td>\n",
       "    </tr>\n",
       "    <tr>\n",
       "      <th>0</th>\n",
       "      <td>{'max_depth': 50, 'n_estimators': 300}</td>\n",
       "      <td>0.222405</td>\n",
       "      <td>0.973303</td>\n",
       "    </tr>\n",
       "    <tr>\n",
       "      <th>0</th>\n",
       "      <td>{'max_depth': 50, 'n_estimators': 300}</td>\n",
       "      <td>0.233708</td>\n",
       "      <td>0.973303</td>\n",
       "    </tr>\n",
       "    <tr>\n",
       "      <th>1</th>\n",
       "      <td>{'max_depth': 50, 'n_estimators': 500}</td>\n",
       "      <td>0.728053</td>\n",
       "      <td>0.971394</td>\n",
       "    </tr>\n",
       "    <tr>\n",
       "      <th>1</th>\n",
       "      <td>{'max_depth': 50, 'n_estimators': 500}</td>\n",
       "      <td>0.366038</td>\n",
       "      <td>0.971394</td>\n",
       "    </tr>\n",
       "    <tr>\n",
       "      <th>1</th>\n",
       "      <td>{'max_depth': 50, 'n_estimators': 500}</td>\n",
       "      <td>0.349732</td>\n",
       "      <td>0.971394</td>\n",
       "    </tr>\n",
       "    <tr>\n",
       "      <th>1</th>\n",
       "      <td>{'max_depth': 50, 'n_estimators': 500}</td>\n",
       "      <td>0.369346</td>\n",
       "      <td>0.971394</td>\n",
       "    </tr>\n",
       "  </tbody>\n",
       "</table>\n",
       "</div>"
      ],
      "text/plain": [
       "                                   params  mean_fit_time  mean_test_score\n",
       "0  {'max_depth': 50, 'n_estimators': 300}       0.462763         0.973303\n",
       "0  {'max_depth': 50, 'n_estimators': 300}       0.234372         0.973303\n",
       "0  {'max_depth': 50, 'n_estimators': 300}       0.222405         0.973303\n",
       "0  {'max_depth': 50, 'n_estimators': 300}       0.233708         0.973303\n",
       "1  {'max_depth': 50, 'n_estimators': 500}       0.728053         0.971394\n",
       "1  {'max_depth': 50, 'n_estimators': 500}       0.366038         0.971394\n",
       "1  {'max_depth': 50, 'n_estimators': 500}       0.349732         0.971394\n",
       "1  {'max_depth': 50, 'n_estimators': 500}       0.369346         0.971394"
      ]
     },
     "execution_count": 172,
     "metadata": {},
     "output_type": "execute_result"
    }
   ],
   "source": [
    "all_results[['params','mean_fit_time','mean_test_score']].sort_values('mean_test_score', ascending=False)"
   ]
  },
  {
   "cell_type": "code",
   "execution_count": 173,
   "metadata": {},
   "outputs": [],
   "source": [
    "all_results.to_pickle('./data/interim/grid_search_results.pkl')"
   ]
  },
  {
   "cell_type": "markdown",
   "metadata": {},
   "source": [
    "**Train new model with best hyper parameters from above**"
   ]
  },
  {
   "cell_type": "code",
   "execution_count": 174,
   "metadata": {},
   "outputs": [
    {
     "name": "stdout",
     "output_type": "stream",
     "text": [
      "Wall time: 0 ns\n"
     ]
    }
   ],
   "source": [
    "%time\n",
    "rf = RandomForestClassifier(random_state=42,n_estimators = 500, max_depth=25)\n",
    "rf.fit(train, labels)\n",
    "finish=datetime.now()"
   ]
  },
  {
   "cell_type": "markdown",
   "metadata": {},
   "source": [
    "**get predictions on un-labelled data:**"
   ]
  },
  {
   "cell_type": "code",
   "execution_count": 175,
   "metadata": {},
   "outputs": [],
   "source": [
    "val_pred=rf.predict_proba(validate)"
   ]
  },
  {
   "cell_type": "code",
   "execution_count": 176,
   "metadata": {},
   "outputs": [
    {
     "data": {
      "text/plain": [
       "['./data/predictions/13-09-2019_12-15-36/random_foest_base.joblib']"
      ]
     },
     "execution_count": 176,
     "metadata": {},
     "output_type": "execute_result"
    }
   ],
   "source": [
    "datetimestring=dt.now().strftime(\"%d-%m-%Y_%H-%M-%S\")\n",
    "os.mkdir('./data/predictions/'+datetimestring)\n",
    "validate['isFraud'] = val_pred[:,1]\n",
    "validate['TransactionID']=list(validate.index)\n",
    "validate[['TransactionID','isFraud']].to_csv('./data/predictions/'+datetimestring+'/prediction_results.csv',index = False)\n",
    "dump(rf, './data/predictions/'+datetimestring+'/random_foest_base.joblib')"
   ]
  },
  {
   "cell_type": "code",
   "execution_count": null,
   "metadata": {},
   "outputs": [],
   "source": []
  },
  {
   "cell_type": "code",
   "execution_count": 100,
   "metadata": {},
   "outputs": [
    {
     "name": "stdout",
     "output_type": "stream",
     "text": [
      "                       X_train: 521.7MiB\n",
      "                        X_test: 130.4MiB\n",
      "                       y_train:   7.2MiB\n",
      "                        y_test:   1.8MiB\n",
      "                        y_pred: 922.8KiB\n",
      "                     numerical:   3.2KiB\n",
      "                           _i7:   1.9KiB\n",
      "                          _i35:   1.9KiB\n",
      "                          _i65:   1.9KiB\n",
      "        RandomForestClassifier:   1.4KiB\n"
     ]
    }
   ],
   "source": [
    "import sys\n",
    "def sizeof_fmt(num, suffix='B'):\n",
    "    ''' By Fred Cirera, after https://stackoverflow.com/a/1094933/1870254'''\n",
    "    for unit in ['','Ki','Mi','Gi','Ti','Pi','Ei','Zi']:\n",
    "        if abs(num) < 1024.0:\n",
    "            return \"%3.1f%s%s\" % (num, unit, suffix)\n",
    "        num /= 1024.0\n",
    "    return \"%.1f%s%s\" % (num, 'Yi', suffix)\n",
    "\n",
    "for name, size in sorted(((name, sys.getsizeof(value)) for name,value in locals().items()),\n",
    "                         key= lambda x: -x[1])[:10]:\n",
    "    print(\"{:>30}: {:>8}\".format(name,sizeof_fmt(size)))"
   ]
  }
 ],
 "metadata": {
  "kernelspec": {
   "display_name": "Python 3",
   "language": "python",
   "name": "python3"
  },
  "language_info": {
   "codemirror_mode": {
    "name": "ipython",
    "version": 3
   },
   "file_extension": ".py",
   "mimetype": "text/x-python",
   "name": "python",
   "nbconvert_exporter": "python",
   "pygments_lexer": "ipython3",
   "version": "3.5.3"
  }
 },
 "nbformat": 4,
 "nbformat_minor": 4
}
